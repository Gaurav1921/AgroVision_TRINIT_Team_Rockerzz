{
 "cells": [
  {
   "attachments": {},
   "cell_type": "markdown",
   "metadata": {},
   "source": [
    "#### Importing Essential Libraries"
   ]
  },
  {
   "cell_type": "code",
   "execution_count": 1,
   "metadata": {},
   "outputs": [],
   "source": [
    "import numpy as np\n",
    "import pandas as pd\n",
    "import matplotlib.pyplot as plt \n",
    "import seaborn as sns"
   ]
  },
  {
   "attachments": {},
   "cell_type": "markdown",
   "metadata": {},
   "source": [
    "#### Importing The Dataset"
   ]
  },
  {
   "cell_type": "code",
   "execution_count": 2,
   "metadata": {},
   "outputs": [
    {
     "data": {
      "text/html": [
       "<div>\n",
       "<style scoped>\n",
       "    .dataframe tbody tr th:only-of-type {\n",
       "        vertical-align: middle;\n",
       "    }\n",
       "\n",
       "    .dataframe tbody tr th {\n",
       "        vertical-align: top;\n",
       "    }\n",
       "\n",
       "    .dataframe thead th {\n",
       "        text-align: right;\n",
       "    }\n",
       "</style>\n",
       "<table border=\"1\" class=\"dataframe\">\n",
       "  <thead>\n",
       "    <tr style=\"text-align: right;\">\n",
       "      <th></th>\n",
       "      <th>NITROGEN_CONTENT</th>\n",
       "      <th>PHOSPHOROUS_CONTENT</th>\n",
       "      <th>POTASSIUM_CONTENT</th>\n",
       "      <th>TEMPERATURE</th>\n",
       "      <th>HUMIDITY</th>\n",
       "      <th>PH_SOIL</th>\n",
       "      <th>RAINFALL</th>\n",
       "      <th>LABEL</th>\n",
       "    </tr>\n",
       "  </thead>\n",
       "  <tbody>\n",
       "    <tr>\n",
       "      <th>0</th>\n",
       "      <td>90</td>\n",
       "      <td>42</td>\n",
       "      <td>43</td>\n",
       "      <td>20.879744</td>\n",
       "      <td>82.002744</td>\n",
       "      <td>6.502985</td>\n",
       "      <td>202.935536</td>\n",
       "      <td>rice</td>\n",
       "    </tr>\n",
       "    <tr>\n",
       "      <th>1</th>\n",
       "      <td>85</td>\n",
       "      <td>58</td>\n",
       "      <td>41</td>\n",
       "      <td>21.770462</td>\n",
       "      <td>80.319644</td>\n",
       "      <td>7.038096</td>\n",
       "      <td>226.655537</td>\n",
       "      <td>rice</td>\n",
       "    </tr>\n",
       "    <tr>\n",
       "      <th>2</th>\n",
       "      <td>60</td>\n",
       "      <td>55</td>\n",
       "      <td>44</td>\n",
       "      <td>23.004459</td>\n",
       "      <td>82.320763</td>\n",
       "      <td>7.840207</td>\n",
       "      <td>263.964248</td>\n",
       "      <td>rice</td>\n",
       "    </tr>\n",
       "    <tr>\n",
       "      <th>3</th>\n",
       "      <td>74</td>\n",
       "      <td>35</td>\n",
       "      <td>40</td>\n",
       "      <td>26.491096</td>\n",
       "      <td>80.158363</td>\n",
       "      <td>6.980401</td>\n",
       "      <td>242.864034</td>\n",
       "      <td>rice</td>\n",
       "    </tr>\n",
       "    <tr>\n",
       "      <th>4</th>\n",
       "      <td>78</td>\n",
       "      <td>42</td>\n",
       "      <td>42</td>\n",
       "      <td>20.130175</td>\n",
       "      <td>81.604873</td>\n",
       "      <td>7.628473</td>\n",
       "      <td>262.717340</td>\n",
       "      <td>rice</td>\n",
       "    </tr>\n",
       "    <tr>\n",
       "      <th>...</th>\n",
       "      <td>...</td>\n",
       "      <td>...</td>\n",
       "      <td>...</td>\n",
       "      <td>...</td>\n",
       "      <td>...</td>\n",
       "      <td>...</td>\n",
       "      <td>...</td>\n",
       "      <td>...</td>\n",
       "    </tr>\n",
       "    <tr>\n",
       "      <th>2195</th>\n",
       "      <td>107</td>\n",
       "      <td>34</td>\n",
       "      <td>32</td>\n",
       "      <td>26.774637</td>\n",
       "      <td>66.413269</td>\n",
       "      <td>6.780064</td>\n",
       "      <td>177.774507</td>\n",
       "      <td>coffee</td>\n",
       "    </tr>\n",
       "    <tr>\n",
       "      <th>2196</th>\n",
       "      <td>99</td>\n",
       "      <td>15</td>\n",
       "      <td>27</td>\n",
       "      <td>27.417112</td>\n",
       "      <td>56.636362</td>\n",
       "      <td>6.086922</td>\n",
       "      <td>127.924610</td>\n",
       "      <td>coffee</td>\n",
       "    </tr>\n",
       "    <tr>\n",
       "      <th>2197</th>\n",
       "      <td>118</td>\n",
       "      <td>33</td>\n",
       "      <td>30</td>\n",
       "      <td>24.131797</td>\n",
       "      <td>67.225123</td>\n",
       "      <td>6.362608</td>\n",
       "      <td>173.322839</td>\n",
       "      <td>coffee</td>\n",
       "    </tr>\n",
       "    <tr>\n",
       "      <th>2198</th>\n",
       "      <td>117</td>\n",
       "      <td>32</td>\n",
       "      <td>34</td>\n",
       "      <td>26.272418</td>\n",
       "      <td>52.127394</td>\n",
       "      <td>6.758793</td>\n",
       "      <td>127.175293</td>\n",
       "      <td>coffee</td>\n",
       "    </tr>\n",
       "    <tr>\n",
       "      <th>2199</th>\n",
       "      <td>104</td>\n",
       "      <td>18</td>\n",
       "      <td>30</td>\n",
       "      <td>23.603016</td>\n",
       "      <td>60.396475</td>\n",
       "      <td>6.779833</td>\n",
       "      <td>140.937041</td>\n",
       "      <td>coffee</td>\n",
       "    </tr>\n",
       "  </tbody>\n",
       "</table>\n",
       "<p>2200 rows × 8 columns</p>\n",
       "</div>"
      ],
      "text/plain": [
       "      NITROGEN_CONTENT  PHOSPHOROUS_CONTENT  POTASSIUM_CONTENT  TEMPERATURE  \\\n",
       "0                   90                   42                 43    20.879744   \n",
       "1                   85                   58                 41    21.770462   \n",
       "2                   60                   55                 44    23.004459   \n",
       "3                   74                   35                 40    26.491096   \n",
       "4                   78                   42                 42    20.130175   \n",
       "...                ...                  ...                ...          ...   \n",
       "2195               107                   34                 32    26.774637   \n",
       "2196                99                   15                 27    27.417112   \n",
       "2197               118                   33                 30    24.131797   \n",
       "2198               117                   32                 34    26.272418   \n",
       "2199               104                   18                 30    23.603016   \n",
       "\n",
       "       HUMIDITY   PH_SOIL    RAINFALL   LABEL  \n",
       "0     82.002744  6.502985  202.935536    rice  \n",
       "1     80.319644  7.038096  226.655537    rice  \n",
       "2     82.320763  7.840207  263.964248    rice  \n",
       "3     80.158363  6.980401  242.864034    rice  \n",
       "4     81.604873  7.628473  262.717340    rice  \n",
       "...         ...       ...         ...     ...  \n",
       "2195  66.413269  6.780064  177.774507  coffee  \n",
       "2196  56.636362  6.086922  127.924610  coffee  \n",
       "2197  67.225123  6.362608  173.322839  coffee  \n",
       "2198  52.127394  6.758793  127.175293  coffee  \n",
       "2199  60.396475  6.779833  140.937041  coffee  \n",
       "\n",
       "[2200 rows x 8 columns]"
      ]
     },
     "execution_count": 2,
     "metadata": {},
     "output_type": "execute_result"
    }
   ],
   "source": [
    "df = pd.read_csv(\"Crop_recommendation.csv\")\n",
    "df = df.rename(columns = {\"N\": \"NITROGEN_CONTENT\",\n",
    "                                  \"P\":\"PHOSPHOROUS_CONTENT\",\n",
    "                                  \"K\": \"POTASSIUM_CONTENT\", \"temperature\": \"TEMPERATURE\",\n",
    "                                   \"humidity\": \"HUMIDITY\",\n",
    "                                   \"ph\": \"PH_SOIL\",\n",
    "                                   \"rainfall\": \"RAINFALL\",\n",
    "                                   \"label\": \"LABEL\"})\n",
    "x = df.iloc[:, :-1].values # matrix of features\n",
    "y = df.iloc[:, -1].values # matrix of output\n",
    "df"
   ]
  },
  {
   "attachments": {},
   "cell_type": "markdown",
   "metadata": {},
   "source": [
    "#### Description of Dataset "
   ]
  },
  {
   "cell_type": "code",
   "execution_count": 3,
   "metadata": {},
   "outputs": [
    {
     "data": {
      "text/plain": [
       "array(['rice', 'maize', 'chickpea', 'kidneybeans', 'pigeonpeas',\n",
       "       'mothbeans', 'mungbean', 'blackgram', 'lentil', 'pomegranate',\n",
       "       'banana', 'mango', 'grapes', 'watermelon', 'muskmelon', 'apple',\n",
       "       'orange', 'papaya', 'coconut', 'cotton', 'jute', 'coffee'],\n",
       "      dtype=object)"
      ]
     },
     "execution_count": 3,
     "metadata": {},
     "output_type": "execute_result"
    }
   ],
   "source": [
    "df['LABEL'].unique()"
   ]
  },
  {
   "cell_type": "code",
   "execution_count": 4,
   "metadata": {},
   "outputs": [
    {
     "data": {
      "text/html": [
       "<div>\n",
       "<style scoped>\n",
       "    .dataframe tbody tr th:only-of-type {\n",
       "        vertical-align: middle;\n",
       "    }\n",
       "\n",
       "    .dataframe tbody tr th {\n",
       "        vertical-align: top;\n",
       "    }\n",
       "\n",
       "    .dataframe thead th {\n",
       "        text-align: right;\n",
       "    }\n",
       "</style>\n",
       "<table border=\"1\" class=\"dataframe\">\n",
       "  <thead>\n",
       "    <tr style=\"text-align: right;\">\n",
       "      <th></th>\n",
       "      <th>count</th>\n",
       "      <th>mean</th>\n",
       "      <th>std</th>\n",
       "      <th>min</th>\n",
       "      <th>25%</th>\n",
       "      <th>50%</th>\n",
       "      <th>75%</th>\n",
       "      <th>max</th>\n",
       "    </tr>\n",
       "  </thead>\n",
       "  <tbody>\n",
       "    <tr>\n",
       "      <th>NITROGEN_CONTENT</th>\n",
       "      <td>2200.0</td>\n",
       "      <td>50.551818</td>\n",
       "      <td>36.917334</td>\n",
       "      <td>0.000000</td>\n",
       "      <td>21.000000</td>\n",
       "      <td>37.000000</td>\n",
       "      <td>84.250000</td>\n",
       "      <td>140.000000</td>\n",
       "    </tr>\n",
       "    <tr>\n",
       "      <th>PHOSPHOROUS_CONTENT</th>\n",
       "      <td>2200.0</td>\n",
       "      <td>53.362727</td>\n",
       "      <td>32.985883</td>\n",
       "      <td>5.000000</td>\n",
       "      <td>28.000000</td>\n",
       "      <td>51.000000</td>\n",
       "      <td>68.000000</td>\n",
       "      <td>145.000000</td>\n",
       "    </tr>\n",
       "    <tr>\n",
       "      <th>POTASSIUM_CONTENT</th>\n",
       "      <td>2200.0</td>\n",
       "      <td>48.149091</td>\n",
       "      <td>50.647931</td>\n",
       "      <td>5.000000</td>\n",
       "      <td>20.000000</td>\n",
       "      <td>32.000000</td>\n",
       "      <td>49.000000</td>\n",
       "      <td>205.000000</td>\n",
       "    </tr>\n",
       "    <tr>\n",
       "      <th>TEMPERATURE</th>\n",
       "      <td>2200.0</td>\n",
       "      <td>25.616244</td>\n",
       "      <td>5.063749</td>\n",
       "      <td>8.825675</td>\n",
       "      <td>22.769375</td>\n",
       "      <td>25.598693</td>\n",
       "      <td>28.561654</td>\n",
       "      <td>43.675493</td>\n",
       "    </tr>\n",
       "    <tr>\n",
       "      <th>HUMIDITY</th>\n",
       "      <td>2200.0</td>\n",
       "      <td>71.481779</td>\n",
       "      <td>22.263812</td>\n",
       "      <td>14.258040</td>\n",
       "      <td>60.261953</td>\n",
       "      <td>80.473146</td>\n",
       "      <td>89.948771</td>\n",
       "      <td>99.981876</td>\n",
       "    </tr>\n",
       "    <tr>\n",
       "      <th>PH_SOIL</th>\n",
       "      <td>2200.0</td>\n",
       "      <td>6.469480</td>\n",
       "      <td>0.773938</td>\n",
       "      <td>3.504752</td>\n",
       "      <td>5.971693</td>\n",
       "      <td>6.425045</td>\n",
       "      <td>6.923643</td>\n",
       "      <td>9.935091</td>\n",
       "    </tr>\n",
       "    <tr>\n",
       "      <th>RAINFALL</th>\n",
       "      <td>2200.0</td>\n",
       "      <td>103.463655</td>\n",
       "      <td>54.958389</td>\n",
       "      <td>20.211267</td>\n",
       "      <td>64.551686</td>\n",
       "      <td>94.867624</td>\n",
       "      <td>124.267508</td>\n",
       "      <td>298.560117</td>\n",
       "    </tr>\n",
       "  </tbody>\n",
       "</table>\n",
       "</div>"
      ],
      "text/plain": [
       "                      count        mean        std        min        25%  \\\n",
       "NITROGEN_CONTENT     2200.0   50.551818  36.917334   0.000000  21.000000   \n",
       "PHOSPHOROUS_CONTENT  2200.0   53.362727  32.985883   5.000000  28.000000   \n",
       "POTASSIUM_CONTENT    2200.0   48.149091  50.647931   5.000000  20.000000   \n",
       "TEMPERATURE          2200.0   25.616244   5.063749   8.825675  22.769375   \n",
       "HUMIDITY             2200.0   71.481779  22.263812  14.258040  60.261953   \n",
       "PH_SOIL              2200.0    6.469480   0.773938   3.504752   5.971693   \n",
       "RAINFALL             2200.0  103.463655  54.958389  20.211267  64.551686   \n",
       "\n",
       "                           50%         75%         max  \n",
       "NITROGEN_CONTENT     37.000000   84.250000  140.000000  \n",
       "PHOSPHOROUS_CONTENT  51.000000   68.000000  145.000000  \n",
       "POTASSIUM_CONTENT    32.000000   49.000000  205.000000  \n",
       "TEMPERATURE          25.598693   28.561654   43.675493  \n",
       "HUMIDITY             80.473146   89.948771   99.981876  \n",
       "PH_SOIL               6.425045    6.923643    9.935091  \n",
       "RAINFALL             94.867624  124.267508  298.560117  "
      ]
     },
     "execution_count": 4,
     "metadata": {},
     "output_type": "execute_result"
    }
   ],
   "source": [
    "df.describe().T"
   ]
  },
  {
   "cell_type": "code",
   "execution_count": 5,
   "metadata": {},
   "outputs": [
    {
     "data": {
      "text/plain": [
       "<AxesSubplot:>"
      ]
     },
     "execution_count": 5,
     "metadata": {},
     "output_type": "execute_result"
    },
    {
     "data": {
      "image/png": "[encoded data removed]",
      "text/plain": [
       "<Figure size 432x288 with 2 Axes>"
      ]
     },
     "metadata": {
      "needs_background": "light"
     },
     "output_type": "display_data"
    }
   ],
   "source": [
    "sns.heatmap(df.corr(), annot=True)"
   ]
  },
  {
   "cell_type": "code",
   "execution_count": 6,
   "metadata": {},
   "outputs": [
    {
     "name": "stdout",
     "output_type": "stream",
     "text": [
      "<class 'pandas.core.frame.DataFrame'>\n",
      "RangeIndex: 2200 entries, 0 to 2199\n",
      "Data columns (total 8 columns):\n",
      " #   Column               Non-Null Count  Dtype  \n",
      "---  ------               --------------  -----  \n",
      " 0   NITROGEN_CONTENT     2200 non-null   int64  \n",
      " 1   PHOSPHOROUS_CONTENT  2200 non-null   int64  \n",
      " 2   POTASSIUM_CONTENT    2200 non-null   int64  \n",
      " 3   TEMPERATURE          2200 non-null   float64\n",
      " 4   HUMIDITY             2200 non-null   float64\n",
      " 5   PH_SOIL              2200 non-null   float64\n",
      " 6   RAINFALL             2200 non-null   float64\n",
      " 7   LABEL                2200 non-null   object \n",
      "dtypes: float64(4), int64(3), object(1)\n",
      "memory usage: 137.6+ KB\n"
     ]
    }
   ],
   "source": [
    "df.info()"
   ]
  },
  {
   "cell_type": "markdown",
   "metadata": {},
   "source": [
    "#### Encoding The Dependent Variable"
   ]
  },
  {
   "cell_type": "code",
   "execution_count": 7,
   "metadata": {},
   "outputs": [],
   "source": [
    "# from sklearn.preprocessing import LabelEncoder\n",
    "# le = LabelEncoder()\n",
    "# df['LABEL'] = le.fit_transform(df['LABEL'])\n",
    "# df.head()"
   ]
  },
  {
   "cell_type": "code",
   "execution_count": 8,
   "metadata": {},
   "outputs": [
    {
     "data": {
      "text/plain": [
       "rice           100\n",
       "maize          100\n",
       "jute           100\n",
       "cotton         100\n",
       "coconut        100\n",
       "papaya         100\n",
       "orange         100\n",
       "apple          100\n",
       "muskmelon      100\n",
       "watermelon     100\n",
       "grapes         100\n",
       "mango          100\n",
       "banana         100\n",
       "pomegranate    100\n",
       "lentil         100\n",
       "blackgram      100\n",
       "mungbean       100\n",
       "mothbeans      100\n",
       "pigeonpeas     100\n",
       "kidneybeans    100\n",
       "chickpea       100\n",
       "coffee         100\n",
       "Name: LABEL, dtype: int64"
      ]
     },
     "execution_count": 8,
     "metadata": {},
     "output_type": "execute_result"
    }
   ],
   "source": [
    "df['LABEL'].value_counts()"
   ]
  },
  {
   "cell_type": "code",
   "execution_count": 9,
   "metadata": {},
   "outputs": [],
   "source": [
    "from sklearn.model_selection import train_test_split\n",
    "x_train, x_test, y_train, y_test  = train_test_split(x, y, test_size= 0.2, random_state= 0)"
   ]
  },
  {
   "attachments": {},
   "cell_type": "markdown",
   "metadata": {},
   "source": [
    "#### Standardization of features"
   ]
  },
  {
   "cell_type": "code",
   "execution_count": 10,
   "metadata": {},
   "outputs": [
    {
     "name": "stdout",
     "output_type": "stream",
     "text": [
      "[[-0.64463185  2.00512125  2.96466347 ...  0.86301256 -0.4785779\n",
      "   0.23692732]\n",
      " [ 0.81334894 -0.52889759 -0.2035231  ...  0.7381018  -0.18240887\n",
      "   0.84590226]\n",
      " [ 1.05634574  0.1649409  -0.26219322 ...  0.82317986  0.82415091\n",
      "   1.29625399]\n",
      " ...\n",
      " [-0.42863469  0.31577536 -0.65332736 ... -0.36751109  0.03555503\n",
      "  -0.61777686]\n",
      " [-0.32063612  0.34594225 -0.4968737  ... -0.11470255  1.59909782\n",
      "  -1.13413007]\n",
      " [-0.99562722 -0.95123406 -0.7706676  ...  0.880759    0.09231399\n",
      "   0.1609325 ]]\n"
     ]
    }
   ],
   "source": [
    "from sklearn.preprocessing import StandardScaler\n",
    "sc =  StandardScaler()\n",
    "x_train = sc.fit_transform(x_train)\n",
    "x_test = sc.transform(x_test)\n",
    "print(x_train)"
   ]
  },
  {
   "attachments": {},
   "cell_type": "markdown",
   "metadata": {},
   "source": [
    "#### LogisticRegression"
   ]
  },
  {
   "cell_type": "code",
   "execution_count": 11,
   "metadata": {},
   "outputs": [
    {
     "data": {
      "text/plain": [
       "0.975"
      ]
     },
     "execution_count": 11,
     "metadata": {},
     "output_type": "execute_result"
    }
   ],
   "source": [
    "from sklearn.linear_model import LogisticRegression\n",
    "from sklearn.metrics import confusion_matrix, accuracy_score\n",
    "lr = LogisticRegression(random_state=0)\n",
    "lr.fit(x_train, y_train)\n",
    "lr_y_pred = lr.predict(x_train)\n",
    "accuracy_score(lr_y_pred, y_train)"
   ]
  },
  {
   "attachments": {},
   "cell_type": "markdown",
   "metadata": {},
   "source": [
    "#### LogisticRegression (cross_val_score)"
   ]
  },
  {
   "cell_type": "code",
   "execution_count": 12,
   "metadata": {},
   "outputs": [
    {
     "name": "stdout",
     "output_type": "stream",
     "text": [
      "Accuracy: 97.16 %\n",
      "Standard Deviation: 1.19 %\n"
     ]
    }
   ],
   "source": [
    "from sklearn.model_selection import cross_val_score\n",
    "accuracies = cross_val_score(estimator = lr, X = x_train, y = y_train, cv = 10)\n",
    "print(\"Accuracy: {:.2f} %\".format(accuracies.mean()*100))\n",
    "print(\"Standard Deviation: {:.2f} %\".format(accuracies.std()*100))"
   ]
  },
  {
   "attachments": {},
   "cell_type": "markdown",
   "metadata": {},
   "source": [
    "#### KNeighborsClassifier"
   ]
  },
  {
   "cell_type": "code",
   "execution_count": 13,
   "metadata": {},
   "outputs": [
    {
     "data": {
      "text/plain": [
       "0.9835227272727273"
      ]
     },
     "execution_count": 13,
     "metadata": {},
     "output_type": "execute_result"
    }
   ],
   "source": [
    "from sklearn.neighbors import KNeighborsClassifier\n",
    "knn = KNeighborsClassifier(n_neighbors=5, metric='minkowski', p=2)\n",
    "knn.fit(x_train, y_train)\n",
    "knn_y_pred = knn.predict(x_train)\n",
    "accuracy_score(knn_y_pred, y_train)"
   ]
  },
  {
   "attachments": {},
   "cell_type": "markdown",
   "metadata": {},
   "source": [
    "#### KNeighborsClassifier (cross_val_score)"
   ]
  },
  {
   "cell_type": "code",
   "execution_count": 14,
   "metadata": {},
   "outputs": [
    {
     "name": "stdout",
     "output_type": "stream",
     "text": [
      "Accuracy: 97.22 %\n",
      "Standard Deviation: 1.06 %\n"
     ]
    }
   ],
   "source": [
    "from sklearn.model_selection import cross_val_score\n",
    "accuracies = cross_val_score(estimator = knn, X = x_train, y = y_train, cv = 10)\n",
    "print(\"Accuracy: {:.2f} %\".format(accuracies.mean()*100))\n",
    "print(\"Standard Deviation: {:.2f} %\".format(accuracies.std()*100))"
   ]
  },
  {
   "cell_type": "markdown",
   "metadata": {},
   "source": [
    "#### SupportVectorClassifier"
   ]
  },
  {
   "cell_type": "code",
   "execution_count": 15,
   "metadata": {},
   "outputs": [
    {
     "data": {
      "text/plain": [
       "0.9875"
      ]
     },
     "execution_count": 15,
     "metadata": {},
     "output_type": "execute_result"
    }
   ],
   "source": [
    "from sklearn.svm import SVC\n",
    "svc = SVC(kernel='rbf', random_state=0)\n",
    "svc.fit(x_train, y_train)\n",
    "svc_y_pred = svc.predict(x_train)\n",
    "accuracy_score(svc_y_pred, y_train)"
   ]
  },
  {
   "attachments": {},
   "cell_type": "markdown",
   "metadata": {},
   "source": [
    "#### SupportVectorClassifier (cross_val_score)"
   ]
  },
  {
   "cell_type": "code",
   "execution_count": 16,
   "metadata": {},
   "outputs": [
    {
     "name": "stdout",
     "output_type": "stream",
     "text": [
      "Accuracy: 98.41 %\n",
      "Standard Deviation: 1.13 %\n"
     ]
    }
   ],
   "source": [
    "from sklearn.model_selection import cross_val_score\n",
    "accuracies = cross_val_score(estimator = svc, X = x_train, y = y_train, cv = 10)\n",
    "print(\"Accuracy: {:.2f} %\".format(accuracies.mean()*100))\n",
    "print(\"Standard Deviation: {:.2f} %\".format(accuracies.std()*100))"
   ]
  },
  {
   "attachments": {},
   "cell_type": "markdown",
   "metadata": {},
   "source": [
    "#### GaussianNB"
   ]
  },
  {
   "cell_type": "code",
   "execution_count": 17,
   "metadata": {},
   "outputs": [
    {
     "data": {
      "text/plain": [
       "0.9954545454545455"
      ]
     },
     "execution_count": 17,
     "metadata": {},
     "output_type": "execute_result"
    }
   ],
   "source": [
    "from sklearn.naive_bayes import GaussianNB\n",
    "nbc = GaussianNB()\n",
    "nbc.fit(x_train, y_train)\n",
    "nbc_y_pred = nbc.predict(x_train)\n",
    "accuracy_score(nbc_y_pred, y_train) "
   ]
  },
  {
   "attachments": {},
   "cell_type": "markdown",
   "metadata": {},
   "source": [
    "#### GaussianNB (cross_val_score)"
   ]
  },
  {
   "cell_type": "code",
   "execution_count": 18,
   "metadata": {},
   "outputs": [
    {
     "name": "stdout",
     "output_type": "stream",
     "text": [
      "Accuracy: 99.43 %\n",
      "Standard Deviation: 0.51 %\n"
     ]
    }
   ],
   "source": [
    "from sklearn.model_selection import cross_val_score\n",
    "accuracies = cross_val_score(estimator = nbc, X = x_train, y = y_train, cv = 10)\n",
    "print(\"Accuracy: {:.2f} %\".format(accuracies.mean()*100))\n",
    "print(\"Standard Deviation: {:.2f} %\".format(accuracies.std()*100))"
   ]
  },
  {
   "cell_type": "markdown",
   "metadata": {},
   "source": [
    "#### DecisionTreeClassifier"
   ]
  },
  {
   "cell_type": "code",
   "execution_count": 19,
   "metadata": {},
   "outputs": [
    {
     "data": {
      "text/plain": [
       "0.18693181818181817"
      ]
     },
     "execution_count": 19,
     "metadata": {},
     "output_type": "execute_result"
    }
   ],
   "source": [
    "from sklearn.tree import DecisionTreeClassifier\n",
    "dtc = DecisionTreeClassifier(criterion = 'gini', random_state = 0, max_depth=2)\n",
    "dtc.fit(x_train, y_train)\n",
    "dtc_y_pred = dtc.predict(x_train)\n",
    "accuracy_score(dtc_y_pred, y_train)"
   ]
  },
  {
   "cell_type": "markdown",
   "metadata": {},
   "source": [
    "#### DecisionTreeClassifier (cross_val_score)"
   ]
  },
  {
   "cell_type": "code",
   "execution_count": 20,
   "metadata": {},
   "outputs": [
    {
     "name": "stdout",
     "output_type": "stream",
     "text": [
      "Accuracy: 18.69 %\n",
      "Standard Deviation: 0.40 %\n"
     ]
    }
   ],
   "source": [
    "from sklearn.model_selection import cross_val_score\n",
    "accuracies = cross_val_score(estimator = dtc, X = x_train, y = y_train, cv = 10)\n",
    "print(\"Accuracy: {:.2f} %\".format(accuracies.mean()*100))\n",
    "print(\"Standard Deviation: {:.2f} %\".format(accuracies.std()*100))"
   ]
  },
  {
   "attachments": {},
   "cell_type": "markdown",
   "metadata": {},
   "source": [
    "#### RandomForestClassifier"
   ]
  },
  {
   "cell_type": "code",
   "execution_count": 21,
   "metadata": {},
   "outputs": [
    {
     "data": {
      "text/plain": [
       "0.9994318181818181"
      ]
     },
     "execution_count": 21,
     "metadata": {},
     "output_type": "execute_result"
    }
   ],
   "source": [
    "from sklearn.ensemble import RandomForestClassifier\n",
    "rfc = RandomForestClassifier(n_estimators=10, criterion='entropy', random_state=0)\n",
    "rfc.fit(x_train, y_train)\n",
    "rfc_y_pred  =rfc.predict(x_train)\n",
    "accuracy_score(rfc_y_pred, y_train)"
   ]
  },
  {
   "attachments": {},
   "cell_type": "markdown",
   "metadata": {},
   "source": [
    "#### RandomForestClassifier (cross_val_score)"
   ]
  },
  {
   "cell_type": "code",
   "execution_count": 22,
   "metadata": {},
   "outputs": [
    {
     "name": "stdout",
     "output_type": "stream",
     "text": [
      "Accuracy: 99.03 %\n",
      "Standard Deviation: 0.62 %\n"
     ]
    }
   ],
   "source": [
    "from sklearn.model_selection import cross_val_score\n",
    "accuracies = cross_val_score(estimator = rfc, X = x_train, y = y_train, cv = 10)\n",
    "print(\"Accuracy: {:.2f} %\".format(accuracies.mean()*100))\n",
    "print(\"Standard Deviation: {:.2f} %\".format(accuracies.std()*100))"
   ]
  },
  {
   "cell_type": "markdown",
   "metadata": {},
   "source": [
    "#### TestPrediction"
   ]
  },
  {
   "cell_type": "code",
   "execution_count": 23,
   "metadata": {},
   "outputs": [
    {
     "name": "stdout",
     "output_type": "stream",
     "text": [
      "[['watermelon' 'watermelon']\n",
      " ['watermelon' 'watermelon']\n",
      " ['grapes' 'grapes']\n",
      " ['chickpea' 'chickpea']\n",
      " ['blackgram' 'blackgram']\n",
      " ['rice' 'rice']\n",
      " ['mothbeans' 'mothbeans']\n",
      " ['kidneybeans' 'kidneybeans']\n",
      " ['muskmelon' 'muskmelon']\n",
      " ['banana' 'banana']\n",
      " ['mothbeans' 'mothbeans']\n",
      " ['coffee' 'coffee']\n",
      " ['lentil' 'lentil']\n",
      " ['mungbean' 'mungbean']\n",
      " ['mango' 'mango']\n",
      " ['apple' 'apple']\n",
      " ['coffee' 'coffee']\n",
      " ['lentil' 'lentil']\n",
      " ['coffee' 'coffee']\n",
      " ['mango' 'mango']\n",
      " ['coconut' 'coconut']\n",
      " ['blackgram' 'blackgram']\n",
      " ['kidneybeans' 'kidneybeans']\n",
      " ['jute' 'jute']\n",
      " ['cotton' 'cotton']\n",
      " ['coffee' 'coffee']\n",
      " ['lentil' 'lentil']\n",
      " ['orange' 'orange']\n",
      " ['mothbeans' 'mothbeans']\n",
      " ['kidneybeans' 'kidneybeans']\n",
      " ['pomegranate' 'pomegranate']\n",
      " ['rice' 'rice']\n",
      " ['maize' 'maize']\n",
      " ['muskmelon' 'muskmelon']\n",
      " ['coconut' 'coconut']\n",
      " ['cotton' 'cotton']\n",
      " ['mango' 'mango']\n",
      " ['mango' 'mango']\n",
      " ['watermelon' 'watermelon']\n",
      " ['blackgram' 'mothbeans']\n",
      " ['maize' 'maize']\n",
      " ['blackgram' 'blackgram']\n",
      " ['pigeonpeas' 'pigeonpeas']\n",
      " ['watermelon' 'watermelon']\n",
      " ['pigeonpeas' 'pigeonpeas']\n",
      " ['mungbean' 'mungbean']\n",
      " ['kidneybeans' 'kidneybeans']\n",
      " ['kidneybeans' 'kidneybeans']\n",
      " ['cotton' 'cotton']\n",
      " ['mungbean' 'mungbean']\n",
      " ['mothbeans' 'mothbeans']\n",
      " ['blackgram' 'blackgram']\n",
      " ['apple' 'apple']\n",
      " ['muskmelon' 'muskmelon']\n",
      " ['pigeonpeas' 'pigeonpeas']\n",
      " ['banana' 'banana']\n",
      " ['papaya' 'papaya']\n",
      " ['mango' 'mango']\n",
      " ['lentil' 'lentil']\n",
      " ['cotton' 'cotton']\n",
      " ['orange' 'orange']\n",
      " ['mungbean' 'mungbean']\n",
      " ['watermelon' 'watermelon']\n",
      " ['rice' 'rice']\n",
      " ['muskmelon' 'muskmelon']\n",
      " ['apple' 'apple']\n",
      " ['grapes' 'grapes']\n",
      " ['coffee' 'coffee']\n",
      " ['apple' 'apple']\n",
      " ['orange' 'orange']\n",
      " ['coconut' 'coconut']\n",
      " ['pomegranate' 'pomegranate']\n",
      " ['kidneybeans' 'kidneybeans']\n",
      " ['maize' 'maize']\n",
      " ['grapes' 'grapes']\n",
      " ['mothbeans' 'mothbeans']\n",
      " ['chickpea' 'chickpea']\n",
      " ['maize' 'maize']\n",
      " ['jute' 'jute']\n",
      " ['mango' 'mango']\n",
      " ['rice' 'rice']\n",
      " ['blackgram' 'blackgram']\n",
      " ['muskmelon' 'watermelon']\n",
      " ['watermelon' 'watermelon']\n",
      " ['muskmelon' 'muskmelon']\n",
      " ['cotton' 'cotton']\n",
      " ['maize' 'maize']\n",
      " ['lentil' 'lentil']\n",
      " ['mothbeans' 'mothbeans']\n",
      " ['papaya' 'papaya']\n",
      " ['blackgram' 'blackgram']\n",
      " ['jute' 'jute']\n",
      " ['mungbean' 'mungbean']\n",
      " ['grapes' 'grapes']\n",
      " ['mungbean' 'mungbean']\n",
      " ['maize' 'maize']\n",
      " ['coffee' 'coffee']\n",
      " ['jute' 'jute']\n",
      " ['lentil' 'lentil']\n",
      " ['chickpea' 'chickpea']\n",
      " ['orange' 'orange']\n",
      " ['jute' 'jute']\n",
      " ['mungbean' 'mungbean']\n",
      " ['banana' 'banana']\n",
      " ['banana' 'banana']\n",
      " ['rice' 'rice']\n",
      " ['watermelon' 'watermelon']\n",
      " ['coffee' 'coffee']\n",
      " ['pigeonpeas' 'pigeonpeas']\n",
      " ['muskmelon' 'muskmelon']\n",
      " ['muskmelon' 'muskmelon']\n",
      " ['mango' 'mango']\n",
      " ['coffee' 'coffee']\n",
      " ['grapes' 'grapes']\n",
      " ['orange' 'orange']\n",
      " ['pomegranate' 'pomegranate']\n",
      " ['mungbean' 'mungbean']\n",
      " ['lentil' 'lentil']\n",
      " ['maize' 'maize']\n",
      " ['jute' 'jute']\n",
      " ['pomegranate' 'pomegranate']\n",
      " ['lentil' 'lentil']\n",
      " ['orange' 'orange']\n",
      " ['chickpea' 'chickpea']\n",
      " ['chickpea' 'chickpea']\n",
      " ['blackgram' 'blackgram']\n",
      " ['pomegranate' 'pomegranate']\n",
      " ['orange' 'orange']\n",
      " ['chickpea' 'chickpea']\n",
      " ['papaya' 'papaya']\n",
      " ['mothbeans' 'mothbeans']\n",
      " ['mothbeans' 'mothbeans']\n",
      " ['muskmelon' 'muskmelon']\n",
      " ['mungbean' 'mungbean']\n",
      " ['maize' 'maize']\n",
      " ['mungbean' 'mungbean']\n",
      " ['coconut' 'coconut']\n",
      " ['pomegranate' 'pomegranate']\n",
      " ['orange' 'orange']\n",
      " ['blackgram' 'blackgram']\n",
      " ['blackgram' 'blackgram']\n",
      " ['grapes' 'grapes']\n",
      " ['apple' 'apple']\n",
      " ['coffee' 'coffee']\n",
      " ['chickpea' 'chickpea']\n",
      " ['apple' 'apple']\n",
      " ['jute' 'jute']\n",
      " ['mango' 'mango']\n",
      " ['watermelon' 'watermelon']\n",
      " ['papaya' 'papaya']\n",
      " ['orange' 'orange']\n",
      " ['coconut' 'coconut']\n",
      " ['mothbeans' 'mothbeans']\n",
      " ['banana' 'banana']\n",
      " ['pomegranate' 'pomegranate']\n",
      " ['chickpea' 'chickpea']\n",
      " ['watermelon' 'watermelon']\n",
      " ['blackgram' 'blackgram']\n",
      " ['apple' 'apple']\n",
      " ['jute' 'jute']\n",
      " ['lentil' 'lentil']\n",
      " ['pigeonpeas' 'pigeonpeas']\n",
      " ['jute' 'jute']\n",
      " ['kidneybeans' 'kidneybeans']\n",
      " ['kidneybeans' 'kidneybeans']\n",
      " ['muskmelon' 'muskmelon']\n",
      " ['rice' 'rice']\n",
      " ['muskmelon' 'muskmelon']\n",
      " ['banana' 'banana']\n",
      " ['orange' 'orange']\n",
      " ['pigeonpeas' 'pigeonpeas']\n",
      " ['apple' 'apple']\n",
      " ['mothbeans' 'mothbeans']\n",
      " ['coconut' 'coconut']\n",
      " ['cotton' 'cotton']\n",
      " ['mungbean' 'mungbean']\n",
      " ['kidneybeans' 'kidneybeans']\n",
      " ['pomegranate' 'pomegranate']\n",
      " ['papaya' 'papaya']\n",
      " ['orange' 'orange']\n",
      " ['rice' 'rice']\n",
      " ['papaya' 'papaya']\n",
      " ['papaya' 'papaya']\n",
      " ['pigeonpeas' 'pigeonpeas']\n",
      " ['kidneybeans' 'kidneybeans']\n",
      " ['banana' 'banana']\n",
      " ['coconut' 'coconut']\n",
      " ['pigeonpeas' 'pigeonpeas']\n",
      " ['rice' 'rice']\n",
      " ['papaya' 'papaya']\n",
      " ['maize' 'maize']\n",
      " ['jute' 'jute']\n",
      " ['mothbeans' 'mothbeans']\n",
      " ['rice' 'rice']\n",
      " ['maize' 'maize']\n",
      " ['coffee' 'coffee']\n",
      " ['pigeonpeas' 'pigeonpeas']\n",
      " ['coconut' 'coconut']\n",
      " ['chickpea' 'chickpea']\n",
      " ['mango' 'mango']\n",
      " ['coconut' 'coconut']\n",
      " ['pomegranate' 'pomegranate']\n",
      " ['maize' 'maize']\n",
      " ['mothbeans' 'mothbeans']\n",
      " ['mothbeans' 'mothbeans']\n",
      " ['orange' 'orange']\n",
      " ['muskmelon' 'muskmelon']\n",
      " ['maize' 'maize']\n",
      " ['pigeonpeas' 'pigeonpeas']\n",
      " ['banana' 'banana']\n",
      " ['chickpea' 'chickpea']\n",
      " ['blackgram' 'blackgram']\n",
      " ['pigeonpeas' 'pigeonpeas']\n",
      " ['orange' 'orange']\n",
      " ['mothbeans' 'mothbeans']\n",
      " ['mungbean' 'mungbean']\n",
      " ['mango' 'mango']\n",
      " ['papaya' 'papaya']\n",
      " ['muskmelon' 'muskmelon']\n",
      " ['pomegranate' 'pomegranate']\n",
      " ['jute' 'rice']\n",
      " ['rice' 'rice']\n",
      " ['blackgram' 'blackgram']\n",
      " ['papaya' 'papaya']\n",
      " ['blackgram' 'blackgram']\n",
      " ['coffee' 'coffee']\n",
      " ['maize' 'maize']\n",
      " ['coffee' 'coffee']\n",
      " ['orange' 'orange']\n",
      " ['rice' 'rice']\n",
      " ['mothbeans' 'mothbeans']\n",
      " ['mungbean' 'mungbean']\n",
      " ['orange' 'orange']\n",
      " ['kidneybeans' 'kidneybeans']\n",
      " ['pomegranate' 'pomegranate']\n",
      " ['coconut' 'coconut']\n",
      " ['mango' 'mango']\n",
      " ['mungbean' 'mungbean']\n",
      " ['cotton' 'cotton']\n",
      " ['rice' 'rice']\n",
      " ['chickpea' 'chickpea']\n",
      " ['mungbean' 'mungbean']\n",
      " ['apple' 'apple']\n",
      " ['pigeonpeas' 'pigeonpeas']\n",
      " ['blackgram' 'blackgram']\n",
      " ['rice' 'rice']\n",
      " ['watermelon' 'watermelon']\n",
      " ['blackgram' 'blackgram']\n",
      " ['pomegranate' 'pomegranate']\n",
      " ['orange' 'orange']\n",
      " ['maize' 'maize']\n",
      " ['grapes' 'grapes']\n",
      " ['chickpea' 'chickpea']\n",
      " ['pigeonpeas' 'pigeonpeas']\n",
      " ['jute' 'jute']\n",
      " ['papaya' 'papaya']\n",
      " ['pomegranate' 'pomegranate']\n",
      " ['coffee' 'coffee']\n",
      " ['mango' 'mango']\n",
      " ['mothbeans' 'mothbeans']\n",
      " ['jute' 'jute']\n",
      " ['watermelon' 'watermelon']\n",
      " ['pomegranate' 'pomegranate']\n",
      " ['rice' 'rice']\n",
      " ['grapes' 'grapes']\n",
      " ['coconut' 'coconut']\n",
      " ['jute' 'jute']\n",
      " ['lentil' 'lentil']\n",
      " ['chickpea' 'chickpea']\n",
      " ['coffee' 'coffee']\n",
      " ['coffee' 'coffee']\n",
      " ['papaya' 'papaya']\n",
      " ['pomegranate' 'pomegranate']\n",
      " ['maize' 'maize']\n",
      " ['rice' 'rice']\n",
      " ['chickpea' 'chickpea']\n",
      " ['pigeonpeas' 'pigeonpeas']\n",
      " ['orange' 'orange']\n",
      " ['pomegranate' 'pomegranate']\n",
      " ['pigeonpeas' 'pigeonpeas']\n",
      " ['coconut' 'coconut']\n",
      " ['kidneybeans' 'kidneybeans']\n",
      " ['pomegranate' 'pomegranate']\n",
      " ['muskmelon' 'muskmelon']\n",
      " ['mothbeans' 'mothbeans']\n",
      " ['mango' 'mango']\n",
      " ['lentil' 'lentil']\n",
      " ['banana' 'banana']\n",
      " ['blackgram' 'blackgram']\n",
      " ['mango' 'mango']\n",
      " ['kidneybeans' 'kidneybeans']\n",
      " ['mango' 'mango']\n",
      " ['cotton' 'cotton']\n",
      " ['mungbean' 'mungbean']\n",
      " ['papaya' 'papaya']\n",
      " ['grapes' 'grapes']\n",
      " ['grapes' 'grapes']\n",
      " ['pigeonpeas' 'pigeonpeas']\n",
      " ['papaya' 'papaya']\n",
      " ['jute' 'jute']\n",
      " ['rice' 'rice']\n",
      " ['chickpea' 'chickpea']\n",
      " ['muskmelon' 'muskmelon']\n",
      " ['coffee' 'coffee']\n",
      " ['watermelon' 'watermelon']\n",
      " ['rice' 'rice']\n",
      " ['jute' 'jute']\n",
      " ['papaya' 'papaya']\n",
      " ['grapes' 'grapes']\n",
      " ['muskmelon' 'muskmelon']\n",
      " ['blackgram' 'blackgram']\n",
      " ['mothbeans' 'mothbeans']\n",
      " ['mothbeans' 'mothbeans']\n",
      " ['chickpea' 'chickpea']\n",
      " ['blackgram' 'blackgram']\n",
      " ['mango' 'mango']\n",
      " ['banana' 'banana']\n",
      " ['mango' 'mango']\n",
      " ['pomegranate' 'pomegranate']\n",
      " ['jute' 'jute']\n",
      " ['orange' 'orange']\n",
      " ['muskmelon' 'muskmelon']\n",
      " ['chickpea' 'chickpea']\n",
      " ['lentil' 'lentil']\n",
      " ['cotton' 'cotton']\n",
      " ['papaya' 'papaya']\n",
      " ['grapes' 'grapes']\n",
      " ['kidneybeans' 'kidneybeans']\n",
      " ['lentil' 'lentil']\n",
      " ['apple' 'apple']\n",
      " ['rice' 'rice']\n",
      " ['muskmelon' 'muskmelon']\n",
      " ['apple' 'apple']\n",
      " ['papaya' 'papaya']\n",
      " ['blackgram' 'blackgram']\n",
      " ['jute' 'jute']\n",
      " ['chickpea' 'chickpea']\n",
      " ['mothbeans' 'mothbeans']\n",
      " ['lentil' 'lentil']\n",
      " ['grapes' 'grapes']\n",
      " ['jute' 'jute']\n",
      " ['kidneybeans' 'kidneybeans']\n",
      " ['muskmelon' 'muskmelon']\n",
      " ['papaya' 'papaya']\n",
      " ['grapes' 'grapes']\n",
      " ['papaya' 'papaya']\n",
      " ['rice' 'rice']\n",
      " ['coffee' 'coffee']\n",
      " ['muskmelon' 'muskmelon']\n",
      " ['mothbeans' 'mothbeans']\n",
      " ['banana' 'banana']\n",
      " ['papaya' 'papaya']\n",
      " ['orange' 'orange']\n",
      " ['kidneybeans' 'kidneybeans']\n",
      " ['watermelon' 'watermelon']\n",
      " ['pigeonpeas' 'pigeonpeas']\n",
      " ['apple' 'apple']\n",
      " ['watermelon' 'watermelon']\n",
      " ['watermelon' 'watermelon']\n",
      " ['pigeonpeas' 'pigeonpeas']\n",
      " ['kidneybeans' 'kidneybeans']\n",
      " ['mothbeans' 'mothbeans']\n",
      " ['kidneybeans' 'kidneybeans']\n",
      " ['jute' 'jute']\n",
      " ['coconut' 'coconut']\n",
      " ['cotton' 'cotton']\n",
      " ['kidneybeans' 'kidneybeans']\n",
      " ['orange' 'orange']\n",
      " ['cotton' 'cotton']\n",
      " ['pigeonpeas' 'pigeonpeas']\n",
      " ['pomegranate' 'pomegranate']\n",
      " ['cotton' 'cotton']\n",
      " ['cotton' 'cotton']\n",
      " ['apple' 'apple']\n",
      " ['cotton' 'cotton']\n",
      " ['apple' 'apple']\n",
      " ['orange' 'orange']\n",
      " ['maize' 'maize']\n",
      " ['grapes' 'grapes']\n",
      " ['banana' 'banana']\n",
      " ['apple' 'apple']\n",
      " ['mothbeans' 'mothbeans']\n",
      " ['rice' 'rice']\n",
      " ['kidneybeans' 'kidneybeans']\n",
      " ['banana' 'banana']\n",
      " ['rice' 'rice']\n",
      " ['lentil' 'lentil']\n",
      " ['chickpea' 'chickpea']\n",
      " ['pomegranate' 'pomegranate']\n",
      " ['banana' 'banana']\n",
      " ['chickpea' 'chickpea']\n",
      " ['muskmelon' 'muskmelon']\n",
      " ['pomegranate' 'pomegranate']\n",
      " ['apple' 'apple']\n",
      " ['lentil' 'lentil']\n",
      " ['muskmelon' 'muskmelon']\n",
      " ['orange' 'orange']\n",
      " ['blackgram' 'blackgram']\n",
      " ['muskmelon' 'muskmelon']\n",
      " ['mothbeans' 'mothbeans']\n",
      " ['mango' 'mango']\n",
      " ['chickpea' 'chickpea']\n",
      " ['pomegranate' 'pomegranate']\n",
      " ['mango' 'mango']\n",
      " ['chickpea' 'chickpea']\n",
      " ['coconut' 'coconut']\n",
      " ['muskmelon' 'muskmelon']\n",
      " ['banana' 'banana']\n",
      " ['pigeonpeas' 'pigeonpeas']\n",
      " ['papaya' 'papaya']\n",
      " ['jute' 'jute']\n",
      " ['lentil' 'lentil']\n",
      " ['cotton' 'cotton']\n",
      " ['rice' 'rice']\n",
      " ['banana' 'banana']\n",
      " ['coconut' 'coconut']\n",
      " ['rice' 'rice']\n",
      " ['blackgram' 'blackgram']\n",
      " ['maize' 'maize']\n",
      " ['orange' 'orange']\n",
      " ['watermelon' 'watermelon']\n",
      " ['rice' 'rice']\n",
      " ['apple' 'apple']\n",
      " ['grapes' 'grapes']\n",
      " ['pigeonpeas' 'pigeonpeas']\n",
      " ['grapes' 'grapes']\n",
      " ['chickpea' 'chickpea']\n",
      " ['mango' 'mango']\n",
      " ['jute' 'jute']\n",
      " ['pomegranate' 'pomegranate']\n",
      " ['maize' 'maize']\n",
      " ['mango' 'mango']\n",
      " ['grapes' 'grapes']\n",
      " ['banana' 'banana']\n",
      " ['mungbean' 'mungbean']\n",
      " ['pigeonpeas' 'pigeonpeas']\n",
      " ['banana' 'banana']\n",
      " ['cotton' 'cotton']\n",
      " ['blackgram' 'blackgram']\n",
      " ['apple' 'apple']]\n"
     ]
    },
    {
     "data": {
      "text/plain": [
       "0.9931818181818182"
      ]
     },
     "execution_count": 23,
     "metadata": {},
     "output_type": "execute_result"
    }
   ],
   "source": [
    "y_pred = rfc.predict(x_test)\n",
    "print(np.concatenate((y_pred.reshape(len(y_pred),1), y_test.reshape(len(y_test),1)),1))\n",
    "accuracy_score(y_pred, y_test)"
   ]
  },
  {
   "attachments": {},
   "cell_type": "markdown",
   "metadata": {},
   "source": [
    "#### Pickle file of our model"
   ]
  },
  {
   "cell_type": "code",
   "execution_count": 24,
   "metadata": {},
   "outputs": [],
   "source": [
    "import pickle \n",
    "pickle.dump(rfc, open(\"Trinitt.pkl\", \"wb\"))"
   ]
  },
  {
   "cell_type": "code",
   "execution_count": null,
   "metadata": {},
   "outputs": [],
   "source": []
  }
 ],
 "metadata": {
  "kernelspec": {
   "display_name": "Python 3",
   "language": "python",
   "name": "python3"
  },
  "language_info": {
   "codemirror_mode": {
    "name": "ipython",
    "version": 3
   },
   "file_extension": ".py",
   "mimetype": "text/x-python",
   "name": "python",
   "nbconvert_exporter": "python",
   "pygments_lexer": "ipython3",
   "version": "3.10.5"
  },
  "orig_nbformat": 4,
  "vscode": {
   "interpreter": {
    "hash": "aee8b7b246df8f9039afb4144a1f6fd8d2ca17a180786b69acc140d282b71a49"
   }
  }
 },
 "nbformat": 4,
 "nbformat_minor": 2
}
